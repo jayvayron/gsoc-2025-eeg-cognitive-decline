{
 "cells": [
  {
   "cell_type": "markdown",
   "id": "4af7a85b",
   "metadata": {},
   "source": [
    "# EEG Signal Loading & Visualization\n",
    "\n",
    "This notebook demonstrates how to load and visualize a sample EEG signal using MNE-Python."
   ]
  },
  {
   "cell_type": "code",
   "execution_count": null,
   "id": "8097a2e9",
   "metadata": {},
   "outputs": [],
   "source": [
    "# Import libraries\n",
    "import mne\n",
    "import numpy as np\n",
    "import matplotlib.pyplot as plt\n"
   ]
  },
  {
   "cell_type": "markdown",
   "id": "07f2c674",
   "metadata": {},
   "source": [
    "## Load a sample EEG dataset using MNE's built-in EEGBCI dataset"
   ]
  },
  {
   "cell_type": "code",
   "execution_count": 2,
   "id": "3a6153bf",
   "metadata": {},
   "outputs": [
    {
     "ename": "ModuleNotFoundError",
     "evalue": "No module named 'mne'",
     "output_type": "error",
     "traceback": [
      "\u001b[1;31m---------------------------------------------------------------------------\u001b[0m",
      "\u001b[1;31mModuleNotFoundError\u001b[0m                       Traceback (most recent call last)",
      "Cell \u001b[1;32mIn[2], line 2\u001b[0m\n\u001b[0;32m      1\u001b[0m \u001b[38;5;66;03m# Download and load sample EEG data\u001b[39;00m\n\u001b[1;32m----> 2\u001b[0m \u001b[38;5;28;01mfrom\u001b[39;00m \u001b[38;5;21;01mmne\u001b[39;00m\u001b[38;5;21;01m.\u001b[39;00m\u001b[38;5;21;01mdatasets\u001b[39;00m \u001b[38;5;28;01mimport\u001b[39;00m eegbci\n\u001b[0;32m      3\u001b[0m \u001b[38;5;28;01mfrom\u001b[39;00m \u001b[38;5;21;01mmne\u001b[39;00m\u001b[38;5;21;01m.\u001b[39;00m\u001b[38;5;21;01mio\u001b[39;00m \u001b[38;5;28;01mimport\u001b[39;00m read_raw_edf\n\u001b[0;32m      5\u001b[0m \u001b[38;5;66;03m# Load dataset 1 for subject 1\u001b[39;00m\n",
      "\u001b[1;31mModuleNotFoundError\u001b[0m: No module named 'mne'"
     ]
    }
   ],
   "source": [
    "# Download and load sample EEG data\n",
    "from mne.datasets import eegbci\n",
    "from mne.io import read_raw_edf\n",
    "\n",
    "# Load dataset 1 for subject 1\n",
    "subject = 1\n",
    "runs = [1]  # motor imagery task\n",
    "eegbci.load_data(subject, runs)\n",
    "raw_fnames = eegbci.load_data(subject, runs)\n",
    "raw = read_raw_edf(raw_fnames[0], preload=True)\n",
    "\n",
    "# Pick EEG channels only\n",
    "raw.pick_types(eeg=True, exclude='bads')\n",
    "\n",
    "# Plot some basic info\n",
    "raw.plot(n_channels=8, duration=10, scalings='auto')\n"
   ]
  },
  {
   "cell_type": "markdown",
   "id": "da98bedb",
   "metadata": {},
   "source": [
    "## Next Steps:\n",
    "- Apply bandpass filtering (e.g., 1–40 Hz)\n",
    "- Extract epochs based on events\n",
    "- Train a basic ML model for state classification\n",
    "\n",
    "*This is the foundation for building a full EEG classification pipeline.*"
   ]
  },
  {
   "cell_type": "code",
   "execution_count": null,
   "id": "cfea20f2-bd23-4368-abd0-d21a0ef527bc",
   "metadata": {},
   "outputs": [],
   "source": []
  }
 ],
 "metadata": {
  "kernelspec": {
   "display_name": "Python 3 (ipykernel)",
   "language": "python",
   "name": "python3"
  },
  "language_info": {
   "codemirror_mode": {
    "name": "ipython",
    "version": 3
   },
   "file_extension": ".py",
   "mimetype": "text/x-python",
   "name": "python",
   "nbconvert_exporter": "python",
   "pygments_lexer": "ipython3",
   "version": "3.12.5"
  }
 },
 "nbformat": 4,
 "nbformat_minor": 5
}
