import nbformat

# Use nbformat module to write the notebook properly
from nbformat import v4 as nbf

# Create a Jupyter notebook with sample content
nb = nbf.new_notebook()

# Cells for the notebook
cells = [
    nbf.new_markdown_cell("# EEG Signal Loading & Visualization\n\nThis notebook demonstrates how to load and visualize a sample EEG signal using MNE-Python."),
    
    nbf.new_code_cell("""# Import libraries
import mne
import numpy as np
import matplotlib.pyplot as plt
"""),

    nbf.new_markdown_cell("## Load a sample EEG dataset using MNE's built-in EEGBCI dataset"),
    
    nbf.new_code_cell("""# Download and load sample EEG data
from mne.datasets import eegbci
from mne.io import read_raw_edf

# Load dataset 1 for subject 1
subject = 1
runs = [1]  # motor imagery task
eegbci.load_data(subject, runs)
raw_fnames = eegbci.load_data(subject, runs)
raw = read_raw_edf(raw_fnames[0], preload=True)

# Pick EEG channels only
raw.pick_types(eeg=True, exclude='bads')

# Plot some basic info
raw.plot(n_channels=8, duration=10, scalings='auto')
"""),

    nbf.new_markdown_cell("## Next Steps:\n- Apply bandpass filtering (e.g., 1–40 Hz)\n- Extract epochs based on events\n- Train a basic ML model for state classification\n\n*This is the foundation for building a full EEG classification pipeline.*")
]

# Add cells to the notebook
nb.cells = cells

# Save the notebook file
notebook_path = "/mnt/data/01_load_and_plot_sample_eeg.ipynb"
with open(notebook_path, "w", encoding="utf-8") as f:
    nbformat.write(nb, f)

notebook_path
